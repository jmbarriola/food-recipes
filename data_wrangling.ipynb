{
 "cells": [
  {
   "cell_type": "code",
   "execution_count": 1,
   "metadata": {},
   "outputs": [],
   "source": [
    "import pandas as pd\n",
    "from pytimeparse.timeparse import timeparse"
   ]
  },
  {
   "cell_type": "code",
   "execution_count": 2,
   "metadata": {},
   "outputs": [],
   "source": [
    "df_new = pd.read_csv('datasets/dataframes/allrecipes_new.csv')\n",
    "df_new['page_format'] = \"new\"\n",
    "df_old = pd.read_csv('datasets/dataframes/allrecipes_old.csv')\n",
    "df_old['page_format'] = \"old\""
   ]
  },
  {
   "cell_type": "code",
   "execution_count": 3,
   "metadata": {},
   "outputs": [
    {
     "data": {
      "text/plain": [
       "(5321, 21)"
      ]
     },
     "execution_count": 3,
     "metadata": {},
     "output_type": "execute_result"
    }
   ],
   "source": [
    "df_new.shape"
   ]
  },
  {
   "cell_type": "code",
   "execution_count": 4,
   "metadata": {},
   "outputs": [
    {
     "data": {
      "text/plain": [
       "(6073, 21)"
      ]
     },
     "execution_count": 4,
     "metadata": {},
     "output_type": "execute_result"
    }
   ],
   "source": [
    "df_old.shape"
   ]
  },
  {
   "cell_type": "markdown",
   "metadata": {},
   "source": [
    "### Old dataframe"
   ]
  },
  {
   "cell_type": "code",
   "execution_count": 5,
   "metadata": {},
   "outputs": [],
   "source": [
    "# Convert made it to numeric\n",
    "df_old['made_it'] = df_old['made_it'].replace(r'k', '000', regex=True).astype(int)"
   ]
  },
  {
   "cell_type": "code",
   "execution_count": 6,
   "metadata": {},
   "outputs": [],
   "source": [
    "# Replace string <1 by a random float value between 0 and 1\n",
    "df_old['sodium'] = np.where(df_old['sodium']=='< 1', np.random.uniform(0.05,1), df_old['sodium'])\n",
    "df_old['cholesterol'] = np.where(df_old['cholesterol']=='< 1', np.random.uniform(0.05,1), df_old['cholesterol'])\n",
    "df_old['sodium'] = pd.to_numeric(df_old['sodium'])\n",
    "df_old['cholesterol'] = pd.to_numeric(df_old['cholesterol'])"
   ]
  },
  {
   "cell_type": "code",
   "execution_count": 7,
   "metadata": {},
   "outputs": [],
   "source": [
    "# Drop home categories and recipe name\n",
    "df_old['categories_list'] = df_old.categories_list.apply(lambda x: eval(x)[2:-1])"
   ]
  },
  {
   "cell_type": "markdown",
   "metadata": {},
   "source": [
    "### New dataframe"
   ]
  },
  {
   "cell_type": "code",
   "execution_count": 8,
   "metadata": {},
   "outputs": [],
   "source": [
    "# Clean prep time on new dataset\n",
    "df_new[\"prep_time\"] = df_new['prep_time'].str.replace(\"P\", \"\").str.replace(\"T\", \"\")\n",
    "# Convert photos to numeric\n",
    "df_new['photos'] = pd.to_numeric(df_new['photos'].str.replace(',',''))"
   ]
  },
  {
   "cell_type": "markdown",
   "metadata": {},
   "source": [
    "### Concat both dataframes"
   ]
  },
  {
   "cell_type": "code",
   "execution_count": 9,
   "metadata": {},
   "outputs": [
    {
     "data": {
      "text/plain": [
       "(11394, 21)"
      ]
     },
     "execution_count": 9,
     "metadata": {},
     "output_type": "execute_result"
    }
   ],
   "source": [
    "df = pd.concat([df_old, df_new])\n",
    "df.shape"
   ]
  },
  {
   "cell_type": "code",
   "execution_count": 10,
   "metadata": {},
   "outputs": [
    {
     "data": {
      "text/plain": [
       "(10892, 21)"
      ]
     },
     "execution_count": 10,
     "metadata": {},
     "output_type": "execute_result"
    }
   ],
   "source": [
    "#Drop link duplicates\n",
    "df = df.drop_duplicates(subset='recipe_name',keep='last')\n",
    "df.shape"
   ]
  },
  {
   "cell_type": "code",
   "execution_count": 11,
   "metadata": {},
   "outputs": [],
   "source": [
    "# Convert prep time to minutes to minutes\n",
    "df['prep_time'] = df['prep_time'].apply(lambda x: timeparse(str(x)))\n",
    "df['prep_time'] = df['prep_time']/60"
   ]
  },
  {
   "cell_type": "code",
   "execution_count": 12,
   "metadata": {},
   "outputs": [],
   "source": [
    "# Convert num_reviews to numeric\n",
    "df['num_reviews'] = pd.to_numeric(df['num_reviews'].str.replace(',',''))\n",
    "df.rename(columns={'num_reviews':'number_of_reviews'}, inplace = True)"
   ]
  },
  {
   "cell_type": "code",
   "execution_count": 15,
   "metadata": {},
   "outputs": [
    {
     "data": {
      "text/html": [
       "<div>\n",
       "<style scoped>\n",
       "    .dataframe tbody tr th:only-of-type {\n",
       "        vertical-align: middle;\n",
       "    }\n",
       "\n",
       "    .dataframe tbody tr th {\n",
       "        vertical-align: top;\n",
       "    }\n",
       "\n",
       "    .dataframe thead th {\n",
       "        text-align: right;\n",
       "    }\n",
       "</style>\n",
       "<table border=\"1\" class=\"dataframe\">\n",
       "  <thead>\n",
       "    <tr style=\"text-align: right;\">\n",
       "      <th></th>\n",
       "      <th>link</th>\n",
       "      <th>feature_list</th>\n",
       "      <th>recipe_name</th>\n",
       "      <th>description</th>\n",
       "      <th>ingredients_list</th>\n",
       "      <th>categories_list</th>\n",
       "      <th>calories</th>\n",
       "      <th>fat</th>\n",
       "      <th>carbs</th>\n",
       "      <th>protein</th>\n",
       "      <th>...</th>\n",
       "      <th>sodium</th>\n",
       "      <th>prep_time</th>\n",
       "      <th>number_of_rating</th>\n",
       "      <th>rating_score</th>\n",
       "      <th>number_of_reviews</th>\n",
       "      <th>reviews</th>\n",
       "      <th>photos</th>\n",
       "      <th>steps</th>\n",
       "      <th>made_it</th>\n",
       "      <th>page_format</th>\n",
       "    </tr>\n",
       "  </thead>\n",
       "  <tbody>\n",
       "    <tr>\n",
       "      <th>5316</th>\n",
       "      <td>https://www.allrecipes.com/recipe/67125/braise...</td>\n",
       "      <td>['Braised Venison with Rosemary and Shiitake',...</td>\n",
       "      <td>Braised Venison with Rosemary and Shiitake</td>\n",
       "      <td>Try my savory and sophisticated dish I created...</td>\n",
       "      <td>['2 tablespoons bacon drippings', '1\\u2009½ po...</td>\n",
       "      <td>['Meat and Poultry', 'Game Meats', 'Venison']</td>\n",
       "      <td>411.8</td>\n",
       "      <td>4.4</td>\n",
       "      <td>20.4</td>\n",
       "      <td>42.2</td>\n",
       "      <td>...</td>\n",
       "      <td>371.1</td>\n",
       "      <td>145.0</td>\n",
       "      <td>24.0</td>\n",
       "      <td>4.625000</td>\n",
       "      <td>22.0</td>\n",
       "      <td>[\"This was fantastic! The only reasons I did n...</td>\n",
       "      <td>2.0</td>\n",
       "      <td>['Melt the bacon drippings in a large Dutch ov...</td>\n",
       "      <td>NaN</td>\n",
       "      <td>new</td>\n",
       "    </tr>\n",
       "    <tr>\n",
       "      <th>5317</th>\n",
       "      <td>https://www.allrecipes.com/recipe/228363/crisp...</td>\n",
       "      <td>['Crispy Roasted Chicken', \"This oven-roasted ...</td>\n",
       "      <td>Crispy Roasted Chicken</td>\n",
       "      <td>This oven-roasted chicken is inspired by the B...</td>\n",
       "      <td>['1 teaspoon kosher salt', '½ teaspoon caraway...</td>\n",
       "      <td>['World Cuisine', 'European', 'German']</td>\n",
       "      <td>495.3</td>\n",
       "      <td>34.5</td>\n",
       "      <td>3.1</td>\n",
       "      <td>41.5</td>\n",
       "      <td>...</td>\n",
       "      <td>445.6</td>\n",
       "      <td>90.0</td>\n",
       "      <td>113.0</td>\n",
       "      <td>4.699115</td>\n",
       "      <td>89.0</td>\n",
       "      <td>['I subbed arrowroot starch for the flour for ...</td>\n",
       "      <td>18.0</td>\n",
       "      <td>['Preheat oven to 425 degrees F (220 degrees C...</td>\n",
       "      <td>NaN</td>\n",
       "      <td>new</td>\n",
       "    </tr>\n",
       "    <tr>\n",
       "      <th>5318</th>\n",
       "      <td>https://www.allrecipes.com/recipe/218073/momma...</td>\n",
       "      <td>[\"Momma Pritchett's Grilled Pork Chops and App...</td>\n",
       "      <td>Momma Pritchett's Grilled Pork Chops and Apple...</td>\n",
       "      <td>Well, I have yet to really eat good BBQ pork c...</td>\n",
       "      <td>['1 cup light brown sugar', '1 cup soy sauce',...</td>\n",
       "      <td>['Main Dishes', 'Pork', 'Pork Chops']</td>\n",
       "      <td>630.9</td>\n",
       "      <td>21.9</td>\n",
       "      <td>67.5</td>\n",
       "      <td>45.1</td>\n",
       "      <td>...</td>\n",
       "      <td>2198.8</td>\n",
       "      <td>105.0</td>\n",
       "      <td>56.0</td>\n",
       "      <td>4.696429</td>\n",
       "      <td>41.0</td>\n",
       "      <td>[\"Mouth-watering juicy pork tender loin. I mad...</td>\n",
       "      <td>7.0</td>\n",
       "      <td>['In a large bowl, mix together 1 cup brown su...</td>\n",
       "      <td>NaN</td>\n",
       "      <td>new</td>\n",
       "    </tr>\n",
       "    <tr>\n",
       "      <th>5319</th>\n",
       "      <td>https://www.allrecipes.com/recipe/219173/simpl...</td>\n",
       "      <td>['Simple Beef Pot Roast', \"This pot roast reci...</td>\n",
       "      <td>Simple Beef Pot Roast</td>\n",
       "      <td>This pot roast recipe and technique could not ...</td>\n",
       "      <td>['1 tablespoon vegetable oil', '3\\u2009½ pound...</td>\n",
       "      <td>['Main Dish', 'Beef', 'Pot Roast']</td>\n",
       "      <td>507.0</td>\n",
       "      <td>39.2</td>\n",
       "      <td>5.6</td>\n",
       "      <td>31.7</td>\n",
       "      <td>...</td>\n",
       "      <td>883.0</td>\n",
       "      <td>210.0</td>\n",
       "      <td>614.0</td>\n",
       "      <td>4.741042</td>\n",
       "      <td>459.0</td>\n",
       "      <td>[\"After browsing reviews I decided to write my...</td>\n",
       "      <td>68.0</td>\n",
       "      <td>['Preheat the oven to 275 degrees F (135 degre...</td>\n",
       "      <td>NaN</td>\n",
       "      <td>new</td>\n",
       "    </tr>\n",
       "    <tr>\n",
       "      <th>5320</th>\n",
       "      <td>https://www.allrecipes.com/recipe/22851/beef-p...</td>\n",
       "      <td>['Beef Pot Pie III', \"I couldn't find a recipe...</td>\n",
       "      <td>Beef Pot Pie III</td>\n",
       "      <td>I couldn't find a recipe for beef pot pie so I...</td>\n",
       "      <td>['1 pound sirloin steak, cubed', '  salt to ta...</td>\n",
       "      <td>['Main Dishes', 'Savory Pies', 'Pot Pie']</td>\n",
       "      <td>526.6</td>\n",
       "      <td>23.6</td>\n",
       "      <td>58.3</td>\n",
       "      <td>19.7</td>\n",
       "      <td>...</td>\n",
       "      <td>661.1</td>\n",
       "      <td>245.0</td>\n",
       "      <td>234.0</td>\n",
       "      <td>4.324786</td>\n",
       "      <td>174.0</td>\n",
       "      <td>[\"This came out wonderful even though I made a...</td>\n",
       "      <td>31.0</td>\n",
       "      <td>['In a saucepan over medium heat, brown the pi...</td>\n",
       "      <td>NaN</td>\n",
       "      <td>new</td>\n",
       "    </tr>\n",
       "  </tbody>\n",
       "</table>\n",
       "<p>5 rows × 21 columns</p>\n",
       "</div>"
      ],
      "text/plain": [
       "                                                   link  \\\n",
       "5316  https://www.allrecipes.com/recipe/67125/braise...   \n",
       "5317  https://www.allrecipes.com/recipe/228363/crisp...   \n",
       "5318  https://www.allrecipes.com/recipe/218073/momma...   \n",
       "5319  https://www.allrecipes.com/recipe/219173/simpl...   \n",
       "5320  https://www.allrecipes.com/recipe/22851/beef-p...   \n",
       "\n",
       "                                           feature_list  \\\n",
       "5316  ['Braised Venison with Rosemary and Shiitake',...   \n",
       "5317  ['Crispy Roasted Chicken', \"This oven-roasted ...   \n",
       "5318  [\"Momma Pritchett's Grilled Pork Chops and App...   \n",
       "5319  ['Simple Beef Pot Roast', \"This pot roast reci...   \n",
       "5320  ['Beef Pot Pie III', \"I couldn't find a recipe...   \n",
       "\n",
       "                                            recipe_name  \\\n",
       "5316         Braised Venison with Rosemary and Shiitake   \n",
       "5317                             Crispy Roasted Chicken   \n",
       "5318  Momma Pritchett's Grilled Pork Chops and Apple...   \n",
       "5319                              Simple Beef Pot Roast   \n",
       "5320                                   Beef Pot Pie III   \n",
       "\n",
       "                                            description  \\\n",
       "5316  Try my savory and sophisticated dish I created...   \n",
       "5317  This oven-roasted chicken is inspired by the B...   \n",
       "5318  Well, I have yet to really eat good BBQ pork c...   \n",
       "5319  This pot roast recipe and technique could not ...   \n",
       "5320  I couldn't find a recipe for beef pot pie so I...   \n",
       "\n",
       "                                       ingredients_list  \\\n",
       "5316  ['2 tablespoons bacon drippings', '1\\u2009½ po...   \n",
       "5317  ['1 teaspoon kosher salt', '½ teaspoon caraway...   \n",
       "5318  ['1 cup light brown sugar', '1 cup soy sauce',...   \n",
       "5319  ['1 tablespoon vegetable oil', '3\\u2009½ pound...   \n",
       "5320  ['1 pound sirloin steak, cubed', '  salt to ta...   \n",
       "\n",
       "                                    categories_list  calories   fat  carbs  \\\n",
       "5316  ['Meat and Poultry', 'Game Meats', 'Venison']     411.8   4.4   20.4   \n",
       "5317        ['World Cuisine', 'European', 'German']     495.3  34.5    3.1   \n",
       "5318          ['Main Dishes', 'Pork', 'Pork Chops']     630.9  21.9   67.5   \n",
       "5319             ['Main Dish', 'Beef', 'Pot Roast']     507.0  39.2    5.6   \n",
       "5320      ['Main Dishes', 'Savory Pies', 'Pot Pie']     526.6  23.6   58.3   \n",
       "\n",
       "      protein  ...  sodium  prep_time  number_of_rating  rating_score  \\\n",
       "5316     42.2  ...   371.1      145.0              24.0      4.625000   \n",
       "5317     41.5  ...   445.6       90.0             113.0      4.699115   \n",
       "5318     45.1  ...  2198.8      105.0              56.0      4.696429   \n",
       "5319     31.7  ...   883.0      210.0             614.0      4.741042   \n",
       "5320     19.7  ...   661.1      245.0             234.0      4.324786   \n",
       "\n",
       "      number_of_reviews                                            reviews  \\\n",
       "5316               22.0  [\"This was fantastic! The only reasons I did n...   \n",
       "5317               89.0  ['I subbed arrowroot starch for the flour for ...   \n",
       "5318               41.0  [\"Mouth-watering juicy pork tender loin. I mad...   \n",
       "5319              459.0  [\"After browsing reviews I decided to write my...   \n",
       "5320              174.0  [\"This came out wonderful even though I made a...   \n",
       "\n",
       "     photos                                              steps made_it  \\\n",
       "5316    2.0  ['Melt the bacon drippings in a large Dutch ov...     NaN   \n",
       "5317   18.0  ['Preheat oven to 425 degrees F (220 degrees C...     NaN   \n",
       "5318    7.0  ['In a large bowl, mix together 1 cup brown su...     NaN   \n",
       "5319   68.0  ['Preheat the oven to 275 degrees F (135 degre...     NaN   \n",
       "5320   31.0  ['In a saucepan over medium heat, brown the pi...     NaN   \n",
       "\n",
       "      page_format  \n",
       "5316          new  \n",
       "5317          new  \n",
       "5318          new  \n",
       "5319          new  \n",
       "5320          new  \n",
       "\n",
       "[5 rows x 21 columns]"
      ]
     },
     "execution_count": 15,
     "metadata": {},
     "output_type": "execute_result"
    }
   ],
   "source": [
    "df.tail()"
   ]
  },
  {
   "cell_type": "code",
   "execution_count": 16,
   "metadata": {},
   "outputs": [],
   "source": [
    "# Write csv\n",
    "df.drop([\"link\", \"feature_list\"], axis=1, inplace=True)\n",
    "df.to_csv('datasets/dataframes/allrecipes_full.csv', index=False)"
   ]
  },
  {
   "cell_type": "code",
   "execution_count": null,
   "metadata": {},
   "outputs": [],
   "source": []
  }
 ],
 "metadata": {
  "kernelspec": {
   "display_name": "Python 3",
   "language": "python",
   "name": "python3"
  },
  "language_info": {
   "codemirror_mode": {
    "name": "ipython",
    "version": 3
   },
   "file_extension": ".py",
   "mimetype": "text/x-python",
   "name": "python",
   "nbconvert_exporter": "python",
   "pygments_lexer": "ipython3",
   "version": "3.7.3"
  },
  "varInspector": {
   "cols": {
    "lenName": 16,
    "lenType": 16,
    "lenVar": 40
   },
   "kernels_config": {
    "python": {
     "delete_cmd_postfix": "",
     "delete_cmd_prefix": "del ",
     "library": "var_list.py",
     "varRefreshCmd": "print(var_dic_list())"
    },
    "r": {
     "delete_cmd_postfix": ") ",
     "delete_cmd_prefix": "rm(",
     "library": "var_list.r",
     "varRefreshCmd": "cat(var_dic_list()) "
    }
   },
   "types_to_exclude": [
    "module",
    "function",
    "builtin_function_or_method",
    "instance",
    "_Feature"
   ],
   "window_display": false
  }
 },
 "nbformat": 4,
 "nbformat_minor": 2
}
